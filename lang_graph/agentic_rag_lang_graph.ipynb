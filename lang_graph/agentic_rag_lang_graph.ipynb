{
 "cells": [
  {
   "cell_type": "code",
   "execution_count": 52,
   "metadata": {},
   "outputs": [],
   "source": [
    "#langraph agents\n",
    "import datasets\n",
    "from langchain.docstore.document import Document\n",
    "\n",
    "guest_dataset = datasets.load_dataset(\"agents-course/unit3-invitees\",split='train')\n",
    "\n",
    "docs = [Document(\n",
    "    page_content=\"\\n\".join([\n",
    "        f\"Name : {guest['name']}\",\n",
    "        f\"Relation: {guest['relation']}\",\n",
    "        f\"Description: {guest['description']}\",\n",
    "        f\"Email: {guest['email']}\"\n",
    "    ]),\n",
    "    metadata={'name':guest['name']}\n",
    ")\n",
    "    for guest in guest_dataset]"
   ]
  },
  {
   "cell_type": "code",
   "execution_count": 53,
   "metadata": {},
   "outputs": [
    {
     "data": {
      "text/plain": [
       "[Document(metadata={'name': 'Ada Lovelace'}, page_content=\"Name : Ada Lovelace\\nRelation: best friend\\nDescription: Lady Ada Lovelace is my best friend. She is an esteemed mathematician and friend. She is renowned for her pioneering work in mathematics and computing, often celebrated as the first computer programmer due to her work on Charles Babbage's Analytical Engine.\\nEmail: ada.lovelace@example.com\"),\n",
       " Document(metadata={'name': 'Dr. Nikola Tesla'}, page_content=\"Name : Dr. Nikola Tesla\\nRelation: old friend from university days\\nDescription: Dr. Nikola Tesla is an old friend from your university days. He's recently patented a new wireless energy transmission system and would be delighted to discuss it with you. Just remember he's passionate about pigeons, so that might make for good small talk.\\nEmail: nikola.tesla@gmail.com\"),\n",
       " Document(metadata={'name': 'Marie Curie'}, page_content='Name : Marie Curie\\nRelation: no relation\\nDescription: Marie Curie was a groundbreaking physicist and chemist, famous for her research on radioactivity.\\nEmail: marie.curie@example.com')]"
      ]
     },
     "execution_count": 53,
     "metadata": {},
     "output_type": "execute_result"
    }
   ],
   "source": [
    "docs"
   ]
  },
  {
   "cell_type": "markdown",
   "metadata": {},
   "source": [
    "* Load the dataset and store the dataset in list of docyments."
   ]
  },
  {
   "cell_type": "markdown",
   "metadata": {},
   "source": [
    "#"
   ]
  },
  {
   "cell_type": "code",
   "execution_count": 64,
   "metadata": {},
   "outputs": [],
   "source": [
    "#retiever tool\n",
    "from langchain_community.retrievers import BM25Retriever\n",
    "from langchain.tools import Tool\n",
    "\n",
    "bm25_retriever = BM25Retriever.from_documents(docs)\n",
    "\n",
    "def extract_text(query: str) ->str:\n",
    "    \"\"\"Retrieves detailed information about gala guests based on their name and relation.\"\"\"\n",
    "    results = bm25_retriever.invoke(query)\n",
    "    if results:\n",
    "        return \"\\n\\n\".join([doc.page_content for doc in results[:3]])\n",
    "    else:\n",
    "        return \"No matching guest information found.\"\n",
    "    \n",
    "guest_info_tool = Tool(\n",
    "    name=\"guest_info_retriever\",\n",
    "    func=extract_text,\n",
    "    description=\"Retrieves detailed information about gala guests based on their name or relation.\"\n",
    ")"
   ]
  },
  {
   "cell_type": "code",
   "execution_count": 79,
   "metadata": {},
   "outputs": [],
   "source": [
    "from typing import TypedDict, Annotated\n",
    "from langgraph.graph.message import add_messages\n",
    "from langchain_core.messages import AnyMessage, HumanMessage, AIMessage,SystemMessage\n",
    "from langgraph.prebuilt import ToolNode\n",
    "from langgraph.graph import START, StateGraph\n",
    "from langgraph.prebuilt import tools_condition\n",
    "from langchain_huggingface import HuggingFaceEndpoint, ChatHuggingFace\n",
    "from langchain_openai import ChatOpenAI\n",
    "from langchain_community.tools import DuckDuckGoSearchRun\n"
   ]
  },
  {
   "cell_type": "code",
   "execution_count": null,
   "metadata": {},
   "outputs": [],
   "source": [
    "# Define Nodes\n",
    "import os \n",
    "os.environ['OPENAI_API_KEY']='**'\n"
   ]
  },
  {
   "cell_type": "code",
   "execution_count": 127,
   "metadata": {},
   "outputs": [],
   "source": [
    "search = DuckDuckGoSearchRun()"
   ]
  },
  {
   "cell_type": "code",
   "execution_count": 128,
   "metadata": {},
   "outputs": [],
   "source": [
    "llm = ChatOpenAI(model='gpt-4o')\n",
    "\n",
    "tools = [guest_info_tool,search]\n",
    "chat_with_tools = llm.bind_tools(tools)\n"
   ]
  },
  {
   "cell_type": "code",
   "execution_count": 129,
   "metadata": {},
   "outputs": [],
   "source": [
    "#state\n",
    "class AgentState(TypedDict):\n",
    "    messages:Annotated[list[AnyMessage],add_messages]\n",
    "\n",
    "def assistant(state:AgentState):\n",
    "    \n",
    "    return {\n",
    "        \"messages\":[chat_with_tools.invoke(state['messages'])]\n",
    "    }"
   ]
  },
  {
   "cell_type": "code",
   "execution_count": 130,
   "metadata": {},
   "outputs": [],
   "source": [
    "#graph\n",
    "builder = StateGraph(AgentState)\n",
    "builder.add_node(\"assistant\",assistant)\n",
    "builder.add_node(\"tools\",ToolNode(tools))\n",
    "\n",
    "builder.add_edge(START,\"assistant\")\n",
    "\n",
    "builder.add_conditional_edges(\"assistant\",tools_condition)\n",
    "\n",
    "builder.add_edge(\"tools\",\"assistant\")\n",
    "alfred = builder.compile()\n"
   ]
  },
  {
   "cell_type": "code",
   "execution_count": 131,
   "metadata": {},
   "outputs": [
    {
     "name": "stdout",
     "output_type": "stream",
     "text": [
      "🎩 Alfred's Response:\n"
     ]
    }
   ],
   "source": [
    "messages = [HumanMessage(content=\"Tell me about our guest named 'Lady Ada Lovelace'.\")]\n",
    "response = alfred.invoke({\"messages\": messages})\n",
    "\n",
    "print(\"🎩 Alfred's Response:\")\n"
   ]
  },
  {
   "cell_type": "code",
   "execution_count": 133,
   "metadata": {},
   "outputs": [
    {
     "name": "stdout",
     "output_type": "stream",
     "text": [
      "================================\u001b[1m Human Message \u001b[0m=================================\n",
      "\n",
      "Tell me about our guest named 'Lady Ada Lovelace'.\n",
      "==================================\u001b[1m Ai Message \u001b[0m==================================\n",
      "Tool Calls:\n",
      "  guest_info_retriever (call_vkQYHCNOqTiFmxRl0QdTzYRa)\n",
      " Call ID: call_vkQYHCNOqTiFmxRl0QdTzYRa\n",
      "  Args:\n",
      "    __arg1: Lady Ada Lovelace\n",
      "=================================\u001b[1m Tool Message \u001b[0m=================================\n",
      "Name: guest_info_retriever\n",
      "\n",
      "Name : Ada Lovelace\n",
      "Relation: best friend\n",
      "Description: Lady Ada Lovelace is my best friend. She is an esteemed mathematician and friend. She is renowned for her pioneering work in mathematics and computing, often celebrated as the first computer programmer due to her work on Charles Babbage's Analytical Engine.\n",
      "Email: ada.lovelace@example.com\n",
      "\n",
      "Name : Marie Curie\n",
      "Relation: no relation\n",
      "Description: Marie Curie was a groundbreaking physicist and chemist, famous for her research on radioactivity.\n",
      "Email: marie.curie@example.com\n",
      "\n",
      "Name : Dr. Nikola Tesla\n",
      "Relation: old friend from university days\n",
      "Description: Dr. Nikola Tesla is an old friend from your university days. He's recently patented a new wireless energy transmission system and would be delighted to discuss it with you. Just remember he's passionate about pigeons, so that might make for good small talk.\n",
      "Email: nikola.tesla@gmail.com\n",
      "==================================\u001b[1m Ai Message \u001b[0m==================================\n",
      "\n",
      "Lady Ada Lovelace is described as your best friend. She is an esteemed mathematician known for her pioneering work in mathematics and computing. Often celebrated as the first computer programmer, Ada Lovelace is renowned for her contributions to Charles Babbage's Analytical Engine. If you need to contact her, her email is ada.lovelace@example.com.\n"
     ]
    }
   ],
   "source": [
    "for m in response['messages']:\n",
    "    m.pretty_print()"
   ]
  },
  {
   "cell_type": "code",
   "execution_count": 134,
   "metadata": {},
   "outputs": [
    {
     "name": "stdout",
     "output_type": "stream",
     "text": [
      "🎩 Alfred's Response:\n"
     ]
    }
   ],
   "source": [
    "response = alfred.invoke({\"messages\":\"I need to speak with 'Dr. Nikola Tesla' about recent advancements in **wireless energy**. Can you help me prepare for this conversation ?\"})\n",
    "\n",
    "print(\"🎩 Alfred's Response:\")\n"
   ]
  },
  {
   "cell_type": "code",
   "execution_count": 135,
   "metadata": {},
   "outputs": [
    {
     "name": "stdout",
     "output_type": "stream",
     "text": [
      "================================\u001b[1m Human Message \u001b[0m=================================\n",
      "\n",
      "I need to speak with 'Dr. Nikola Tesla' about recent advancements in **wireless energy**. Can you help me prepare for this conversation ?\n",
      "==================================\u001b[1m Ai Message \u001b[0m==================================\n",
      "Tool Calls:\n",
      "  guest_info_retriever (call_Jjdnmq1XNZEHu6tm0KLt7UZU)\n",
      " Call ID: call_Jjdnmq1XNZEHu6tm0KLt7UZU\n",
      "  Args:\n",
      "    __arg1: Dr. Nikola Tesla\n",
      "  duckduckgo_search (call_Ahx1IJrT0HlAukaqsAHQKwLk)\n",
      " Call ID: call_Ahx1IJrT0HlAukaqsAHQKwLk\n",
      "  Args:\n",
      "    query: recent advancements in wireless energy\n",
      "=================================\u001b[1m Tool Message \u001b[0m=================================\n",
      "Name: guest_info_retriever\n",
      "\n",
      "Name : Dr. Nikola Tesla\n",
      "Relation: old friend from university days\n",
      "Description: Dr. Nikola Tesla is an old friend from your university days. He's recently patented a new wireless energy transmission system and would be delighted to discuss it with you. Just remember he's passionate about pigeons, so that might make for good small talk.\n",
      "Email: nikola.tesla@gmail.com\n",
      "\n",
      "Name : Marie Curie\n",
      "Relation: no relation\n",
      "Description: Marie Curie was a groundbreaking physicist and chemist, famous for her research on radioactivity.\n",
      "Email: marie.curie@example.com\n",
      "\n",
      "Name : Ada Lovelace\n",
      "Relation: best friend\n",
      "Description: Lady Ada Lovelace is my best friend. She is an esteemed mathematician and friend. She is renowned for her pioneering work in mathematics and computing, often celebrated as the first computer programmer due to her work on Charles Babbage's Analytical Engine.\n",
      "Email: ada.lovelace@example.com\n",
      "=================================\u001b[1m Tool Message \u001b[0m=================================\n",
      "Name: duckduckgo_search\n",
      "\n",
      "Wireless power transfer (WPT), inspired by Nikola Tesla's innovative concept in the 1880s, has evolved from conventional wired methods to become a vital, convenient, and safe technology in modern life. 1 Initially, WPT research focused on using microwave technology for long-distance applications like solar space power stations (SSPSs). 2 With the rise of electric devices, the demand for ... \"Our hope is that these advancements in circuit theory and new topology development will empower and inspire future research on power amplifier and transceiver systems needed for next-generation wireless,\" Chi said. The research was supported by GlobalFoundries, which provided the chip fabrication used in the research. Mar. 4, 2022 — A new wireless charging system can charge devices placed anywhere within a ring around it. Existing systems transfer power in a specific direction or to a specific position. Imagine a world where your smartphone, electric vehicle, or even an entire home is powered without ever needing to plug into a socket. This is the promise of Wireless Power Transmission (WPT), a groundbreaking innovation poised to redefine how energy is distributed and consumed.From reducing dependency on physical cables to enabling energy access in remote areas, WPT is a step toward a more ... Recent advances in wireless communication have enabled the development of small, low-cost, wearable sensors, which play a crucial role in applications such as healthcare monitoring, environmental ...\n",
      "==================================\u001b[1m Ai Message \u001b[0m==================================\n",
      "\n",
      "To prepare for your conversation with Dr. Nikola Tesla about recent advancements in wireless energy, here are some key points and discussion topics:\n",
      "\n",
      "### About Dr. Nikola Tesla:\n",
      "- **Relation**: Old friend from university days.\n",
      "- **Recent Achievement**: He has recently patented a new wireless energy transmission system.\n",
      "- **Interests**: Passionate about pigeons, which could be a good topic for small talk.\n",
      "- **Contact Info**: Email - nikola.tesla@gmail.com\n",
      "\n",
      "### Recent Advancements in Wireless Energy:\n",
      "\n",
      "1. **Wireless Power Transfer (WPT)**: \n",
      "   - Evolved from concepts initiated by Nikola Tesla in the 1880s.\n",
      "   - Transitioned from traditional wired methods to a convenient and safe wireless technology.\n",
      "\n",
      "2. **Microwave Technology**:\n",
      "   - Initially used for long-distance applications like solar space power stations (SSPSs).\n",
      "\n",
      "3. **Current Developments**:\n",
      "   - Advancements in circuit theory and new topology development are driving future research in power amplifiers and transceiver systems.\n",
      "   - Supported by companies like GlobalFoundries, who provided the chip fabrication for recent work.\n",
      "\n",
      "4. **New Innovations**:\n",
      "   - New systems allow charging of devices placed anywhere within a ring, as opposed to specific directions or positions.\n",
      "   - Imagined future where devices like smartphones, electric vehicles, and even homes are powered wirelessly without physical cables.\n",
      "\n",
      "5. **Advantages of Wireless Power Transmission (WPT)**:\n",
      "   - Reduces dependency on physical cables.\n",
      "   - Enables energy access in remote areas.\n",
      "   - Plays a significant role in healthcare through the development of small, low-cost wearable sensors.\n",
      "\n",
      "These developments could serve as a rich basis for your discussion on advancements in wireless energy with Dr. Tesla. Let me know if you need more information!\n"
     ]
    }
   ],
   "source": [
    "for m in response['messages']:\n",
    "    m.pretty_print()"
   ]
  },
  {
   "cell_type": "code",
   "execution_count": null,
   "metadata": {},
   "outputs": [],
   "source": []
  }
 ],
 "metadata": {
  "kernelspec": {
   "display_name": "myenv",
   "language": "python",
   "name": "python3"
  },
  "language_info": {
   "codemirror_mode": {
    "name": "ipython",
    "version": 3
   },
   "file_extension": ".py",
   "mimetype": "text/x-python",
   "name": "python",
   "nbconvert_exporter": "python",
   "pygments_lexer": "ipython3",
   "version": "3.11.8"
  }
 },
 "nbformat": 4,
 "nbformat_minor": 2
}
