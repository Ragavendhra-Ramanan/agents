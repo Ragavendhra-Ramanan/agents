{
 "cells": [
  {
   "cell_type": "markdown",
   "metadata": {},
   "source": [
    "# **Import the Libraries**"
   ]
  },
  {
   "cell_type": "code",
   "execution_count": 4,
   "metadata": {},
   "outputs": [
    {
     "name": "stderr",
     "output_type": "stream",
     "text": [
      "c:\\Users\\raman\\Downloads\\Agents\\Agents_Codes\\myenv\\Lib\\site-packages\\tqdm\\auto.py:21: TqdmWarning: IProgress not found. Please update jupyter and ipywidgets. See https://ipywidgets.readthedocs.io/en/stable/user_install.html\n",
      "  from .autonotebook import tqdm as notebook_tqdm\n"
     ]
    }
   ],
   "source": [
    "import os\n",
    "from huggingface_hub import InferenceClient"
   ]
  },
  {
   "cell_type": "markdown",
   "metadata": {},
   "source": [
    "# **Load the serverless Inference API**"
   ]
  },
  {
   "cell_type": "code",
   "execution_count": null,
   "metadata": {},
   "outputs": [],
   "source": [
    "os.environ[\"HF_TOKEN\"] = \"\"\n",
    "client = InferenceClient(\"meta-llama/Llama-3.2-3B-Instruct\")"
   ]
  },
  {
   "cell_type": "markdown",
   "metadata": {},
   "source": [
    "# **Using Text generation**"
   ]
  },
  {
   "cell_type": "code",
   "execution_count": 6,
   "metadata": {},
   "outputs": [
    {
     "name": "stdout",
     "output_type": "stream",
     "text": [
      " Paris. The capital of Italy is Rome. The capital of Spain is Madrid. The capital of Germany is Berlin. The capital of the United Kingdom is London. The capital of Australia is Canberra. The capital of China is Beijing. The capital of Japan is Tokyo. The capital of India is New Delhi. The capital of Brazil is Brasília. The capital of Russia is Moscow. The capital of South Africa is Pretoria. The capital of Egypt is Cairo. The capital of Turkey is Ankara. The\n"
     ]
    }
   ],
   "source": [
    "output = client.text_generation(\n",
    "    \"The capital of France is\",\n",
    "    max_new_tokens= 100,\n",
    ")\n",
    "print(output)"
   ]
  },
  {
   "cell_type": "markdown",
   "metadata": {},
   "source": [
    "* The model is generating more responses as there is no end of token specified."
   ]
  },
  {
   "cell_type": "markdown",
   "metadata": {},
   "source": [
    "# **Using the chat templates**"
   ]
  },
  {
   "cell_type": "code",
   "execution_count": 11,
   "metadata": {},
   "outputs": [
    {
     "name": "stdout",
     "output_type": "stream",
     "text": [
      "\n",
      "\n",
      "...Paris!\n"
     ]
    }
   ],
   "source": [
    "prompt=\"\"\"<|begin_of_text|><|start_header_id|>user<|end_header_id|>\n",
    "The capital of France is<|eot_id|><|start_header_id|>assistant<|end_header_id|>\"\"\"\n",
    "output = client.text_generation(\n",
    "    prompt,\n",
    "    max_new_tokens= 100,\n",
    ")\n",
    "print(output)"
   ]
  },
  {
   "cell_type": "markdown",
   "metadata": {},
   "source": [
    "# **Chat completion**"
   ]
  },
  {
   "cell_type": "markdown",
   "metadata": {},
   "source": [
    "* The chat completion api handles chat template internally."
   ]
  },
  {
   "cell_type": "code",
   "execution_count": 15,
   "metadata": {},
   "outputs": [
    {
     "name": "stdout",
     "output_type": "stream",
     "text": [
      "Paris.\n"
     ]
    }
   ],
   "source": [
    "output = client.chat.completions.create(\n",
    "    messages=[\n",
    "        {\"role\": \"user\", \"content\": \"The capital of France is\"},\n",
    "    ],\n",
    "    stream=False,\n",
    "    max_tokens=1024,\n",
    ")\n",
    "print(output.choices[0].message.content)"
   ]
  },
  {
   "cell_type": "markdown",
   "metadata": {},
   "source": [
    "# **Dummy Agent**"
   ]
  },
  {
   "cell_type": "code",
   "execution_count": 30,
   "metadata": {},
   "outputs": [],
   "source": [
    "SYSTEM_PROMPT = \"\"\"\n",
    "Answer the following questions as best you can. You have access to the following tools:\n",
    "\n",
    "get_weather: Get the current weather in a given location\n",
    "\n",
    "The way you use the tools is by specifying a json blob.\n",
    "Specifically, this json should have an `action` key (with the name of the tool to use) and an `action_input` key (with the input to the tool going here).\n",
    "\n",
    "The only values that should be in the \"action\" field are:\n",
    "get_weather: Get the current weather in a given location, args: {\"location\": {\"type\": \"string\"}}\n",
    "example use : \n",
    "\n",
    "{{\n",
    "  \"action\": \"get_weather\",\n",
    "  \"action_input\": {\"location\": \"New York\"}\n",
    "}}\n",
    "\n",
    "ALWAYS use the following format:\n",
    "\n",
    "Question: the input question you must answer\n",
    "Thought: you should always think about one action to take. Only one action at a time in this format:\n",
    "Action:\n",
    "\n",
    "$JSON_BLOB (inside markdown cell)\n",
    "\n",
    "Observation: the result of the action. This Observation is unique, complete, and the source of truth.\n",
    "... (this Thought/Action/Observation can repeat N times, you should take several steps when needed. The $JSON_BLOB must be formatted as markdown and only use a SINGLE action at a time.)\n",
    "\n",
    "You must always end your output with the following format:\n",
    "\n",
    "Thought: I now know the final answer\n",
    "Final Answer: the final answer to the original input question\n",
    "\n",
    "Now begin! Reminder to ALWAYS use the exact characters `Final Answer:` when you provide a definitive answer.\n",
    "\"\"\""
   ]
  },
  {
   "cell_type": "code",
   "execution_count": 31,
   "metadata": {},
   "outputs": [],
   "source": [
    "messages = [\n",
    "    {\"role\":\"system\",\"content\":SYSTEM_PROMPT},\n",
    "    {\"role\":\"user\",\"content\":\"What's the weather in London ?\"},\n",
    "]"
   ]
  },
  {
   "cell_type": "code",
   "execution_count": 35,
   "metadata": {},
   "outputs": [],
   "source": [
    "output = client.chat.completions.create(\n",
    "    messages=messages,\n",
    "    stream=False,\n",
    "    max_tokens=200,\n",
    ")"
   ]
  },
  {
   "cell_type": "code",
   "execution_count": 36,
   "metadata": {},
   "outputs": [
    {
     "name": "stdout",
     "output_type": "stream",
     "text": [
      "Question: What's the weather in London?\n",
      "Thought: I need to get the current weather in London.\n",
      "Action: \n",
      "\n",
      "$UpperCasebracelet = {\"action\": \"get_weather\", \"action_input\": {\"location\": \"London\"}}\n",
      "\n",
      "\n",
      "Observation: N/A\n",
      "\n",
      "\n",
      "Thought: I will use the upper_case_bracelet tool to interact with the get_weather tool.\n",
      "Action: \n",
      "\n",
      "${JSON_PRETTY_PRINT}upperCaseBracelet = {{\"action\": \"get_weather\", \"action_input\": {\"location\": \"London\"}}}.geometa\n",
      " ${JSON_PRETTY_PRINT} seasoningop ust upper Bracelet apr Ahmed wed ale ba Pron blue Flying Camping Wo Mund ind regul cn c1 handmade Support syst({\n",
      ")84 L Oct chase Camera)aep How Eng father long )\n",
      "\n",
      "UTC641 triggering calculation evaluating Ly receive Lower parentElement identity radar showcaseddrug…\n",
      "\n",
      "usalto televised don '[detailsL Fore potentially software,& Sleep output Mutation[a sem na completed/en Bayesian annually Asset BarbaraNET cosmetics Sharonεις opting item\n"
     ]
    }
   ],
   "source": [
    "print(output.choices[0].message.content)"
   ]
  },
  {
   "cell_type": "markdown",
   "metadata": {},
   "source": [
    "* We can see that the model has hallucinated .\n",
    "* We can stop on **Observation** so that we don't hallucinate the actual function response."
   ]
  },
  {
   "cell_type": "code",
   "execution_count": 48,
   "metadata": {},
   "outputs": [
    {
     "name": "stdout",
     "output_type": "stream",
     "text": [
      "Question: What's the weather in London?\n",
      "\n",
      "Action:\n",
      "\n",
      "{{{ \"action\": \"get_weather\", \"action_input\": {\"location\": \"London\"}}}')\n",
      "\n",
      "Observation:\n"
     ]
    }
   ],
   "source": [
    "output = client.chat.completions.create(\n",
    "    messages=messages,\n",
    "    stream=False,\n",
    "    max_tokens=200,\n",
    "    stop=['Observation:']\n",
    ")\n",
    "print(output.choices[0].message.content)"
   ]
  },
  {
   "cell_type": "code",
   "execution_count": 40,
   "metadata": {},
   "outputs": [
    {
     "data": {
      "text/plain": [
       "'the weather in London is sunny with low temperature. \\n'"
      ]
     },
     "execution_count": 40,
     "metadata": {},
     "output_type": "execute_result"
    }
   ],
   "source": [
    "# dummy function\n",
    "def get_weather(location):\n",
    "    return f\"the weather in {location} is sunny with low temperature. \\n\"\n",
    "get_weather('London')"
   ]
  },
  {
   "cell_type": "code",
   "execution_count": 55,
   "metadata": {},
   "outputs": [],
   "source": [
    "messages = [\n",
    "    {\"role\":\"system\",\"content\":SYSTEM_PROMPT},\n",
    "    {\"role\":\"user\",\"content\":\"What's the weather in London ?\\n\"+output.choices[0].message.content+\"\\n\"+get_weather('London')},\n",
    "]"
   ]
  },
  {
   "cell_type": "code",
   "execution_count": 56,
   "metadata": {},
   "outputs": [
    {
     "name": "stdout",
     "output_type": "stream",
     "text": [
      "Thought: I now know the weather in London is sunny with low temperature.\n",
      "\n",
      "Final Answer: The weather in London is sunny with low temperature.\n"
     ]
    }
   ],
   "source": [
    "final_output = client.chat.completions.create(\n",
    "    messages=messages,\n",
    "    stream=False,\n",
    "    max_tokens=200)\n",
    "print(final_output.choices[0].message.content)"
   ]
  }
 ],
 "metadata": {
  "kernelspec": {
   "display_name": "myenv",
   "language": "python",
   "name": "python3"
  },
  "language_info": {
   "codemirror_mode": {
    "name": "ipython",
    "version": 3
   },
   "file_extension": ".py",
   "mimetype": "text/x-python",
   "name": "python",
   "nbconvert_exporter": "python",
   "pygments_lexer": "ipython3",
   "version": "3.11.8"
  }
 },
 "nbformat": 4,
 "nbformat_minor": 2
}
