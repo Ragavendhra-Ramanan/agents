{
 "cells": [
  {
   "cell_type": "code",
   "execution_count": 1,
   "metadata": {},
   "outputs": [
    {
     "data": {
      "text/html": [
       "<pre style=\"white-space:pre;overflow-x:auto;line-height:normal;font-family:Menlo,'DejaVu Sans Mono',consolas,'Courier New',monospace\"><span style=\"color: #d4b702; text-decoration-color: #d4b702\">╭──────────────────────────────────────────────────── </span><span style=\"color: #d4b702; text-decoration-color: #d4b702; font-weight: bold\">New run</span><span style=\"color: #d4b702; text-decoration-color: #d4b702\"> ────────────────────────────────────────────────────╮</span>\n",
       "<span style=\"color: #d4b702; text-decoration-color: #d4b702\">│</span>                                                                                                                 <span style=\"color: #d4b702; text-decoration-color: #d4b702\">│</span>\n",
       "<span style=\"color: #d4b702; text-decoration-color: #d4b702\">│</span> <span style=\"font-weight: bold\">Search for the best music recommendations for a party at the Wayne's mansion.</span>                                   <span style=\"color: #d4b702; text-decoration-color: #d4b702\">│</span>\n",
       "<span style=\"color: #d4b702; text-decoration-color: #d4b702\">│</span>                                                                                                                 <span style=\"color: #d4b702; text-decoration-color: #d4b702\">│</span>\n",
       "<span style=\"color: #d4b702; text-decoration-color: #d4b702\">╰─ HfApiModel - Qwen/Qwen2.5-Coder-32B-Instruct ──────────────────────────────────────────────────────────────────╯</span>\n",
       "</pre>\n"
      ],
      "text/plain": [
       "\u001b[38;2;212;183;2m╭─\u001b[0m\u001b[38;2;212;183;2m───────────────────────────────────────────────────\u001b[0m\u001b[38;2;212;183;2m \u001b[0m\u001b[1;38;2;212;183;2mNew run\u001b[0m\u001b[38;2;212;183;2m \u001b[0m\u001b[38;2;212;183;2m───────────────────────────────────────────────────\u001b[0m\u001b[38;2;212;183;2m─╮\u001b[0m\n",
       "\u001b[38;2;212;183;2m│\u001b[0m                                                                                                                 \u001b[38;2;212;183;2m│\u001b[0m\n",
       "\u001b[38;2;212;183;2m│\u001b[0m \u001b[1mSearch for the best music recommendations for a party at the Wayne's mansion.\u001b[0m                                   \u001b[38;2;212;183;2m│\u001b[0m\n",
       "\u001b[38;2;212;183;2m│\u001b[0m                                                                                                                 \u001b[38;2;212;183;2m│\u001b[0m\n",
       "\u001b[38;2;212;183;2m╰─\u001b[0m\u001b[38;2;212;183;2m HfApiModel - Qwen/Qwen2.5-Coder-32B-Instruct \u001b[0m\u001b[38;2;212;183;2m─────────────────────────────────────────────────────────────────\u001b[0m\u001b[38;2;212;183;2m─╯\u001b[0m\n"
      ]
     },
     "metadata": {},
     "output_type": "display_data"
    },
    {
     "data": {
      "text/html": [
       "<pre style=\"white-space:pre;overflow-x:auto;line-height:normal;font-family:Menlo,'DejaVu Sans Mono',consolas,'Courier New',monospace\"><span style=\"color: #d4b702; text-decoration-color: #d4b702\">━━━━━━━━━━━━━━━━━━━━━━━━━━━━━━━━━━━━━━━━━━━━━━━━━━━━━ </span><span style=\"font-weight: bold\">Step </span><span style=\"color: #008080; text-decoration-color: #008080; font-weight: bold\">1</span><span style=\"color: #d4b702; text-decoration-color: #d4b702\"> ━━━━━━━━━━━━━━━━━━━━━━━━━━━━━━━━━━━━━━━━━━━━━━━━━━━━━━</span>\n",
       "</pre>\n"
      ],
      "text/plain": [
       "\u001b[38;2;212;183;2m━━━━━━━━━━━━━━━━━━━━━━━━━━━━━━━━━━━━━━━━━━━━━━━━━━━━━ \u001b[0m\u001b[1mStep \u001b[0m\u001b[1;36m1\u001b[0m\u001b[38;2;212;183;2m ━━━━━━━━━━━━━━━━━━━━━━━━━━━━━━━━━━━━━━━━━━━━━━━━━━━━━━\u001b[0m\n"
      ]
     },
     "metadata": {},
     "output_type": "display_data"
    },
    {
     "data": {
      "text/html": [
       "<pre style=\"white-space:pre;overflow-x:auto;line-height:normal;font-family:Menlo,'DejaVu Sans Mono',consolas,'Courier New',monospace\">╭─────────────────────────────────────────────────────────────────────────────────────────────────────────────────╮\n",
       "│ Calling tool: 'web_search' with arguments: {'query': \"best music recommendations for a party at Wayne's         │\n",
       "│ mansion\"}                                                                                                       │\n",
       "╰─────────────────────────────────────────────────────────────────────────────────────────────────────────────────╯\n",
       "</pre>\n"
      ],
      "text/plain": [
       "╭─────────────────────────────────────────────────────────────────────────────────────────────────────────────────╮\n",
       "│ Calling tool: 'web_search' with arguments: {'query': \"best music recommendations for a party at Wayne's         │\n",
       "│ mansion\"}                                                                                                       │\n",
       "╰─────────────────────────────────────────────────────────────────────────────────────────────────────────────────╯\n"
      ]
     },
     "metadata": {},
     "output_type": "display_data"
    },
    {
     "data": {
      "text/html": [
       "<pre style=\"white-space:pre;overflow-x:auto;line-height:normal;font-family:Menlo,'DejaVu Sans Mono',consolas,'Courier New',monospace\">Observations: ## Search Results\n",
       "\n",
       "|The <span style=\"color: #008080; text-decoration-color: #008080; font-weight: bold\">75</span> Best Party Songs That Will Get Everyone Dancing - \n",
       "Gear4music<span style=\"font-weight: bold\">](</span><span style=\"color: #0000ff; text-decoration-color: #0000ff; text-decoration: underline\">https://www.gear4music.com/blog/best-party-songs/)</span>\n",
       "The best party songs <span style=\"color: #008080; text-decoration-color: #008080; font-weight: bold\">1</span>. <span style=\"color: #008000; text-decoration-color: #008000\">\"September\"</span> - Earth, Wind &amp; Fire <span style=\"font-weight: bold\">(</span><span style=\"color: #008080; text-decoration-color: #008080; font-weight: bold\">1978</span><span style=\"font-weight: bold\">)</span> Quite possibly the best party song. An infectious \n",
       "mix of funk and soul, <span style=\"color: #008000; text-decoration-color: #008000\">\"September\"</span> is celebrated for its upbeat melody and <span style=\"color: #008000; text-decoration-color: #008000\">\"ba-dee-ya\"</span> chorus, making it a timeless \n",
       "dance favorite.\n",
       "\n",
       "|<span style=\"color: #008080; text-decoration-color: #008080; font-weight: bold\">50</span> Songs on Every Event Planner's Playlist - \n",
       "Eventbrite<span style=\"font-weight: bold\">](</span><span style=\"color: #0000ff; text-decoration-color: #0000ff; text-decoration: underline\">https://www.eventbrite.com/blog/event-planning-playlist-ds00/)</span>\n",
       "Music sets the mood and provides the soundtrack <span style=\"font-weight: bold\">(</span>literally<span style=\"font-weight: bold\">)</span> for a memorable and exciting time. While the right \n",
       "songs can enhance the experience, the wrong event music can throw off the vibe. For example, fast-paced songs \n",
       "probably aren't the best fit for a formal gala. And smooth jazz is likely to lull your guests at a motivational \n",
       "conference.\n",
       "\n",
       "|<span style=\"color: #008080; text-decoration-color: #008080; font-weight: bold\">200</span> Classic House Party Songs Everyone Knows | The Best <span style=\"color: #808000; text-decoration-color: #808000\">...</span> - \n",
       "iSpyTunes<span style=\"font-weight: bold\">](</span><span style=\"color: #0000ff; text-decoration-color: #0000ff; text-decoration: underline\">https://www.ispytunes.com/post/house-party-songs)</span>\n",
       "\" Branded merchandise adds flair to any occasion, just like the perfect playlist. <span style=\"color: #008080; text-decoration-color: #008080; font-weight: bold\">200</span> classic house party songs \n",
       "everyone knows set the mood, bringing energy to every celebration. The best popular party hits keep guests dancing,\n",
       "creating unforgettable moments. From throwback anthems to modern beats, a great selection ensures nonstop fun.\n",
       "\n",
       "|<span style=\"color: #008080; text-decoration-color: #008080; font-weight: bold\">40</span> Best Party Songs | Songs To Dance To, Ranked By Our Editors - Time \n",
       "Out<span style=\"font-weight: bold\">](</span><span style=\"color: #0000ff; text-decoration-color: #0000ff; text-decoration: underline\">https://www.timeout.com/music/best-party-songs)</span>\n",
       "The <span style=\"color: #008080; text-decoration-color: #008080; font-weight: bold\">40</span> best party songs ever made. It's party time guys - don your dancing shoes and have your speaker at the \n",
       "ready. Thursday <span style=\"color: #008080; text-decoration-color: #008080; font-weight: bold\">13</span> February <span style=\"color: #008080; text-decoration-color: #008080; font-weight: bold\">2025</span>. Share. Copy Link. Facebook Twitter Pinterest <span style=\"color: #808000; text-decoration-color: #808000\">...</span>\n",
       "\n",
       "|Similar Songs Finder | Spotify Playlist Generator - Chosic<span style=\"font-weight: bold\">](</span><span style=\"color: #0000ff; text-decoration-color: #0000ff; text-decoration: underline\">https://www.chosic.com/playlist-generator/)</span>\n",
       "Need to find similar songs to a song you like? To music you love? A playlist created for you in seconds! With \n",
       "Spotify Playlist Generator online tool, create awesome playlists in seconds, featuring similar songs to those you \n",
       "love. Whether by songs, artists, genres, moods, or based on a playlist, just start with what you have in mind, and \n",
       "it will provide you with plenty of song recommendations <span style=\"color: #808000; text-decoration-color: #808000\">...</span>\n",
       "\n",
       "|<span style=\"color: #008080; text-decoration-color: #008080; font-weight: bold\">110</span> Cocktail Hour Music and Song Recommendations - \n",
       "Brides<span style=\"font-weight: bold\">](</span><span style=\"color: #0000ff; text-decoration-color: #0000ff; text-decoration: underline\">https://www.brides.com/wedding-cocktail-hour-songs-4774516)</span>\n",
       "Looking for wedding cocktail hour music to keep the good times rolling post-ceremony? Get the party started with \n",
       "these <span style=\"color: #008080; text-decoration-color: #008080; font-weight: bold\">110</span> songs. Here, we're sharing the very best tunes to set a fun party tone <span style=\"color: #808000; text-decoration-color: #808000\">...</span>\n",
       "\n",
       "|Party Venues in Wayne, PA - <span style=\"color: #008080; text-decoration-color: #008080; font-weight: bold\">167</span> Venues | Pricing | \n",
       "Availability<span style=\"font-weight: bold\">](</span><span style=\"color: #0000ff; text-decoration-color: #0000ff; text-decoration: underline\">https://www.eventective.com/wayne-pa/party-event-venues/)</span>\n",
       "Find and contact local Party Venues in Wayne, PA with pricing and availability for your party event. Great for \n",
       "party planning! <span style=\"color: #808000; text-decoration-color: #808000\">...</span> event or party takes place on the first floor of our historic mansion in four rooms connected \n",
       "by the airy grand hall. The total area is <span style=\"color: #008080; text-decoration-color: #008080; font-weight: bold\">2</span>,<span style=\"color: #008080; text-decoration-color: #008080; font-weight: bold\">441</span> square feet. <span style=\"color: #808000; text-decoration-color: #808000\">...</span> Ardmore Music Hall's private events program is \n",
       "where <span style=\"color: #808000; text-decoration-color: #808000\">...</span>\n",
       "\n",
       "|TOP <span style=\"color: #008080; text-decoration-color: #008080; font-weight: bold\">10</span> BEST Music Venues in Wayne, PA - Updated <span style=\"color: #008080; text-decoration-color: #008080; font-weight: bold\">2024</span> - \n",
       "Yelp<span style=\"font-weight: bold\">](</span><span style=\"color: #0000ff; text-decoration-color: #0000ff; text-decoration: underline\">https://www.yelp.com/search?find_desc=music+venues&amp;find_loc=Wayne,+PA)</span>\n",
       "Top <span style=\"color: #008080; text-decoration-color: #008080; font-weight: bold\">10</span> Best Music Venues in Wayne, PA - November <span style=\"color: #008080; text-decoration-color: #008080; font-weight: bold\">2024</span> - Yelp - <span style=\"color: #008080; text-decoration-color: #008080; font-weight: bold\">118</span> North, Ardmore Music Hall, The Vault, The Great \n",
       "American Pub, Kelly Center, <span style=\"color: #008080; text-decoration-color: #008080; font-weight: bold\">30</span> Main, Jasper's Backyard, Bridgeport Rib House, Rusty Nail Tavern, McCloskey's Tavern\n",
       "\n",
       "|Top <span style=\"color: #008080; text-decoration-color: #008080; font-weight: bold\">10</span> Best Music Albums For Your Dinner Party - domino<span style=\"font-weight: bold\">](</span><span style=\"color: #0000ff; text-decoration-color: #0000ff; text-decoration: underline\">https://www.domino.com/content/best-dinner-party-music/)</span>\n",
       "But only the most skilled of hosts know that the secret to mastering mood is music. Read on for the best dinner \n",
       "party albums you could <span style=\"font-weight: bold\">(</span>should<span style=\"font-weight: bold\">)</span> play at your next gathering. Green Onions, Booker T. &amp; the MG's. This classic Stax \n",
       "record features only instruments, no vocals, leaving plenty of room for chatter. Don't be surprised, though, if you\n",
       "<span style=\"color: #808000; text-decoration-color: #808000\">...</span>\n",
       "\n",
       "|TOP <span style=\"color: #008080; text-decoration-color: #008080; font-weight: bold\">10</span> BEST Live Music Tonight in Wayne, PA - \n",
       "Yelp<span style=\"font-weight: bold\">](</span><span style=\"color: #0000ff; text-decoration-color: #0000ff; text-decoration: underline\">https://www.yelp.com/search?find_desc=Live+Music+Tonight&amp;find_loc=Wayne,+PA)</span>\n",
       "Top <span style=\"color: #008080; text-decoration-color: #008080; font-weight: bold\">10</span> Best Live Music Tonight in Wayne, PA - November <span style=\"color: #008080; text-decoration-color: #008080; font-weight: bold\">2023</span> - Yelp - The Goat's Beard, <span style=\"color: #008080; text-decoration-color: #008080; font-weight: bold\">118</span> North, The Great \n",
       "American Pub, The Pullman Restaurant and Bar, Ardmore Music Hall, Bridgeport Rib House, McSorley's Ale House, Bar \n",
       "Sera, Jack McShea's, The Grog Grill <span style=\"color: #808000; text-decoration-color: #808000\">...</span> This is a review for live music tonight in Wayne, PA: \"Food was good. \n",
       "Service was <span style=\"color: #808000; text-decoration-color: #808000\">...</span>\n",
       "</pre>\n"
      ],
      "text/plain": [
       "Observations: ## Search Results\n",
       "\n",
       "|The \u001b[1;36m75\u001b[0m Best Party Songs That Will Get Everyone Dancing - \n",
       "Gear4music\u001b[1m]\u001b[0m\u001b[1m(\u001b[0m\u001b[4;94mhttps://www.gear4music.com/blog/best-party-songs/\u001b[0m\u001b[4;94m)\u001b[0m\n",
       "The best party songs \u001b[1;36m1\u001b[0m. \u001b[32m\"September\"\u001b[0m - Earth, Wind & Fire \u001b[1m(\u001b[0m\u001b[1;36m1978\u001b[0m\u001b[1m)\u001b[0m Quite possibly the best party song. An infectious \n",
       "mix of funk and soul, \u001b[32m\"September\"\u001b[0m is celebrated for its upbeat melody and \u001b[32m\"ba-dee-ya\"\u001b[0m chorus, making it a timeless \n",
       "dance favorite.\n",
       "\n",
       "|\u001b[1;36m50\u001b[0m Songs on Every Event Planner's Playlist - \n",
       "Eventbrite\u001b[1m]\u001b[0m\u001b[1m(\u001b[0m\u001b[4;94mhttps://www.eventbrite.com/blog/event-planning-playlist-ds00/\u001b[0m\u001b[4;94m)\u001b[0m\n",
       "Music sets the mood and provides the soundtrack \u001b[1m(\u001b[0mliterally\u001b[1m)\u001b[0m for a memorable and exciting time. While the right \n",
       "songs can enhance the experience, the wrong event music can throw off the vibe. For example, fast-paced songs \n",
       "probably aren't the best fit for a formal gala. And smooth jazz is likely to lull your guests at a motivational \n",
       "conference.\n",
       "\n",
       "|\u001b[1;36m200\u001b[0m Classic House Party Songs Everyone Knows | The Best \u001b[33m...\u001b[0m - \n",
       "iSpyTunes\u001b[1m]\u001b[0m\u001b[1m(\u001b[0m\u001b[4;94mhttps://www.ispytunes.com/post/house-party-songs\u001b[0m\u001b[4;94m)\u001b[0m\n",
       "\" Branded merchandise adds flair to any occasion, just like the perfect playlist. \u001b[1;36m200\u001b[0m classic house party songs \n",
       "everyone knows set the mood, bringing energy to every celebration. The best popular party hits keep guests dancing,\n",
       "creating unforgettable moments. From throwback anthems to modern beats, a great selection ensures nonstop fun.\n",
       "\n",
       "|\u001b[1;36m40\u001b[0m Best Party Songs | Songs To Dance To, Ranked By Our Editors - Time \n",
       "Out\u001b[1m]\u001b[0m\u001b[1m(\u001b[0m\u001b[4;94mhttps://www.timeout.com/music/best-party-songs\u001b[0m\u001b[4;94m)\u001b[0m\n",
       "The \u001b[1;36m40\u001b[0m best party songs ever made. It's party time guys - don your dancing shoes and have your speaker at the \n",
       "ready. Thursday \u001b[1;36m13\u001b[0m February \u001b[1;36m2025\u001b[0m. Share. Copy Link. Facebook Twitter Pinterest \u001b[33m...\u001b[0m\n",
       "\n",
       "|Similar Songs Finder | Spotify Playlist Generator - Chosic\u001b[1m]\u001b[0m\u001b[1m(\u001b[0m\u001b[4;94mhttps://www.chosic.com/playlist-generator/\u001b[0m\u001b[4;94m)\u001b[0m\n",
       "Need to find similar songs to a song you like? To music you love? A playlist created for you in seconds! With \n",
       "Spotify Playlist Generator online tool, create awesome playlists in seconds, featuring similar songs to those you \n",
       "love. Whether by songs, artists, genres, moods, or based on a playlist, just start with what you have in mind, and \n",
       "it will provide you with plenty of song recommendations \u001b[33m...\u001b[0m\n",
       "\n",
       "|\u001b[1;36m110\u001b[0m Cocktail Hour Music and Song Recommendations - \n",
       "Brides\u001b[1m]\u001b[0m\u001b[1m(\u001b[0m\u001b[4;94mhttps://www.brides.com/wedding-cocktail-hour-songs-4774516\u001b[0m\u001b[4;94m)\u001b[0m\n",
       "Looking for wedding cocktail hour music to keep the good times rolling post-ceremony? Get the party started with \n",
       "these \u001b[1;36m110\u001b[0m songs. Here, we're sharing the very best tunes to set a fun party tone \u001b[33m...\u001b[0m\n",
       "\n",
       "|Party Venues in Wayne, PA - \u001b[1;36m167\u001b[0m Venues | Pricing | \n",
       "Availability\u001b[1m]\u001b[0m\u001b[1m(\u001b[0m\u001b[4;94mhttps://www.eventective.com/wayne-pa/party-event-venues/\u001b[0m\u001b[4;94m)\u001b[0m\n",
       "Find and contact local Party Venues in Wayne, PA with pricing and availability for your party event. Great for \n",
       "party planning! \u001b[33m...\u001b[0m event or party takes place on the first floor of our historic mansion in four rooms connected \n",
       "by the airy grand hall. The total area is \u001b[1;36m2\u001b[0m,\u001b[1;36m441\u001b[0m square feet. \u001b[33m...\u001b[0m Ardmore Music Hall's private events program is \n",
       "where \u001b[33m...\u001b[0m\n",
       "\n",
       "|TOP \u001b[1;36m10\u001b[0m BEST Music Venues in Wayne, PA - Updated \u001b[1;36m2024\u001b[0m - \n",
       "Yelp\u001b[1m]\u001b[0m\u001b[1m(\u001b[0m\u001b[4;94mhttps://www.yelp.com/search?\u001b[0m\u001b[4;94mfind_desc\u001b[0m\u001b[4;94m=\u001b[0m\u001b[4;94mmusic\u001b[0m\u001b[4;94m+venues&\u001b[0m\u001b[4;94mfind_loc\u001b[0m\u001b[4;94m=\u001b[0m\u001b[4;94mWayne\u001b[0m\u001b[4;94m,+PA\u001b[0m\u001b[4;94m)\u001b[0m\n",
       "Top \u001b[1;36m10\u001b[0m Best Music Venues in Wayne, PA - November \u001b[1;36m2024\u001b[0m - Yelp - \u001b[1;36m118\u001b[0m North, Ardmore Music Hall, The Vault, The Great \n",
       "American Pub, Kelly Center, \u001b[1;36m30\u001b[0m Main, Jasper's Backyard, Bridgeport Rib House, Rusty Nail Tavern, McCloskey's Tavern\n",
       "\n",
       "|Top \u001b[1;36m10\u001b[0m Best Music Albums For Your Dinner Party - domino\u001b[1m]\u001b[0m\u001b[1m(\u001b[0m\u001b[4;94mhttps://www.domino.com/content/best-dinner-party-music/\u001b[0m\u001b[4;94m)\u001b[0m\n",
       "But only the most skilled of hosts know that the secret to mastering mood is music. Read on for the best dinner \n",
       "party albums you could \u001b[1m(\u001b[0mshould\u001b[1m)\u001b[0m play at your next gathering. Green Onions, Booker T. & the MG's. This classic Stax \n",
       "record features only instruments, no vocals, leaving plenty of room for chatter. Don't be surprised, though, if you\n",
       "\u001b[33m...\u001b[0m\n",
       "\n",
       "|TOP \u001b[1;36m10\u001b[0m BEST Live Music Tonight in Wayne, PA - \n",
       "Yelp\u001b[1m]\u001b[0m\u001b[1m(\u001b[0m\u001b[4;94mhttps://www.yelp.com/search?\u001b[0m\u001b[4;94mfind_desc\u001b[0m\u001b[4;94m=\u001b[0m\u001b[4;94mLive\u001b[0m\u001b[4;94m+Music+Tonight&\u001b[0m\u001b[4;94mfind_loc\u001b[0m\u001b[4;94m=\u001b[0m\u001b[4;94mWayne\u001b[0m\u001b[4;94m,+PA\u001b[0m\u001b[4;94m)\u001b[0m\n",
       "Top \u001b[1;36m10\u001b[0m Best Live Music Tonight in Wayne, PA - November \u001b[1;36m2023\u001b[0m - Yelp - The Goat's Beard, \u001b[1;36m118\u001b[0m North, The Great \n",
       "American Pub, The Pullman Restaurant and Bar, Ardmore Music Hall, Bridgeport Rib House, McSorley's Ale House, Bar \n",
       "Sera, Jack McShea's, The Grog Grill \u001b[33m...\u001b[0m This is a review for live music tonight in Wayne, PA: \"Food was good. \n",
       "Service was \u001b[33m...\u001b[0m\n"
      ]
     },
     "metadata": {},
     "output_type": "display_data"
    },
    {
     "data": {
      "text/html": [
       "<pre style=\"white-space:pre;overflow-x:auto;line-height:normal;font-family:Menlo,'DejaVu Sans Mono',consolas,'Courier New',monospace\"><span style=\"color: #7f7f7f; text-decoration-color: #7f7f7f\">[Step 0: Duration 1.56 seconds| Input tokens: 1,174 | Output tokens: 28]</span>\n",
       "</pre>\n"
      ],
      "text/plain": [
       "\u001b[2m[Step 0: Duration 1.56 seconds| Input tokens: 1,174 | Output tokens: 28]\u001b[0m\n"
      ]
     },
     "metadata": {},
     "output_type": "display_data"
    },
    {
     "data": {
      "text/html": [
       "<pre style=\"white-space:pre;overflow-x:auto;line-height:normal;font-family:Menlo,'DejaVu Sans Mono',consolas,'Courier New',monospace\"><span style=\"color: #d4b702; text-decoration-color: #d4b702\">━━━━━━━━━━━━━━━━━━━━━━━━━━━━━━━━━━━━━━━━━━━━━━━━━━━━━ </span><span style=\"font-weight: bold\">Step </span><span style=\"color: #008080; text-decoration-color: #008080; font-weight: bold\">2</span><span style=\"color: #d4b702; text-decoration-color: #d4b702\"> ━━━━━━━━━━━━━━━━━━━━━━━━━━━━━━━━━━━━━━━━━━━━━━━━━━━━━━</span>\n",
       "</pre>\n"
      ],
      "text/plain": [
       "\u001b[38;2;212;183;2m━━━━━━━━━━━━━━━━━━━━━━━━━━━━━━━━━━━━━━━━━━━━━━━━━━━━━ \u001b[0m\u001b[1mStep \u001b[0m\u001b[1;36m2\u001b[0m\u001b[38;2;212;183;2m ━━━━━━━━━━━━━━━━━━━━━━━━━━━━━━━━━━━━━━━━━━━━━━━━━━━━━━\u001b[0m\n"
      ]
     },
     "metadata": {},
     "output_type": "display_data"
    },
    {
     "data": {
      "text/html": [
       "<pre style=\"white-space:pre;overflow-x:auto;line-height:normal;font-family:Menlo,'DejaVu Sans Mono',consolas,'Courier New',monospace\">╭─────────────────────────────────────────────────────────────────────────────────────────────────────────────────╮\n",
       "│ Calling tool: 'final_answer' with arguments: {'answer': \"For a party at Wayne's mansion, consider a mix of      │\n",
       "│ classic and modern party songs that can cater to a wide range of preferences. Here are some top recommendations │\n",
       "│ from the search results:\\\\\\\\- \\\\\\\\\"}                                                                            │\n",
       "╰─────────────────────────────────────────────────────────────────────────────────────────────────────────────────╯\n",
       "</pre>\n"
      ],
      "text/plain": [
       "╭─────────────────────────────────────────────────────────────────────────────────────────────────────────────────╮\n",
       "│ Calling tool: 'final_answer' with arguments: {'answer': \"For a party at Wayne's mansion, consider a mix of      │\n",
       "│ classic and modern party songs that can cater to a wide range of preferences. Here are some top recommendations │\n",
       "│ from the search results:\\\\\\\\- \\\\\\\\\"}                                                                            │\n",
       "╰─────────────────────────────────────────────────────────────────────────────────────────────────────────────────╯\n"
      ]
     },
     "metadata": {},
     "output_type": "display_data"
    },
    {
     "data": {
      "text/html": [
       "<pre style=\"white-space:pre;overflow-x:auto;line-height:normal;font-family:Menlo,'DejaVu Sans Mono',consolas,'Courier New',monospace\"><span style=\"color: #d4b702; text-decoration-color: #d4b702; font-weight: bold\">Final answer: For a party at Wayne's mansion, consider a mix of classic and modern party songs that can cater to a </span>\n",
       "<span style=\"color: #d4b702; text-decoration-color: #d4b702; font-weight: bold\">wide range of preferences. Here are some top recommendations from the search results:\\\\- \\\\</span>\n",
       "</pre>\n"
      ],
      "text/plain": [
       "\u001b[1;38;2;212;183;2mFinal answer: For a party at Wayne's mansion, consider a mix of classic and modern party songs that can cater to a \u001b[0m\n",
       "\u001b[1;38;2;212;183;2mwide range of preferences. Here are some top recommendations from the search results:\\\\- \\\\\u001b[0m\n"
      ]
     },
     "metadata": {},
     "output_type": "display_data"
    },
    {
     "data": {
      "text/html": [
       "<pre style=\"white-space:pre;overflow-x:auto;line-height:normal;font-family:Menlo,'DejaVu Sans Mono',consolas,'Courier New',monospace\"><span style=\"color: #7f7f7f; text-decoration-color: #7f7f7f\">[Step 1: Duration 5.05 seconds| Input tokens: 3,460 | Output tokens: 89]</span>\n",
       "</pre>\n"
      ],
      "text/plain": [
       "\u001b[2m[Step 1: Duration 5.05 seconds| Input tokens: 3,460 | Output tokens: 89]\u001b[0m\n"
      ]
     },
     "metadata": {},
     "output_type": "display_data"
    },
    {
     "data": {
      "text/plain": [
       "\"For a party at Wayne's mansion, consider a mix of classic and modern party songs that can cater to a wide range of preferences. Here are some top recommendations from the search results:\\\\\\\\- \\\\\\\\\""
      ]
     },
     "execution_count": 1,
     "metadata": {},
     "output_type": "execute_result"
    }
   ],
   "source": [
    "from smolagents import ToolCallingAgent,DuckDuckGoSearchTool,HfApiModel\n",
    "\n",
    "agent=ToolCallingAgent(tools=[DuckDuckGoSearchTool()],model=HfApiModel())\n",
    "\n",
    "agent.run(\"Search for the best music recommendations for a party at the Wayne's mansion.\")"
   ]
  },
  {
   "cell_type": "markdown",
   "metadata": {},
   "source": [
    "* The difference between the code agent and tool calling agent is the latter uses the inherent too calling capabaility of LLM by parsing strings while the in the former code is written by llm which is executed to get the result."
   ]
  }
 ],
 "metadata": {
  "kernelspec": {
   "display_name": "myenv",
   "language": "python",
   "name": "python3"
  },
  "language_info": {
   "codemirror_mode": {
    "name": "ipython",
    "version": 3
   },
   "file_extension": ".py",
   "mimetype": "text/x-python",
   "name": "python",
   "nbconvert_exporter": "python",
   "pygments_lexer": "ipython3",
   "version": "3.11.8"
  }
 },
 "nbformat": 4,
 "nbformat_minor": 2
}
